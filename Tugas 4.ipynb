{
 "cells": [
  {
   "cell_type": "code",
   "execution_count": 2,
   "metadata": {},
   "outputs": [],
   "source": [
    "mydata<-read.csv('dataresponn (1).csv')"
   ]
  },
  {
   "cell_type": "code",
   "execution_count": 3,
   "metadata": {},
   "outputs": [
    {
     "data": {
      "text/html": [
       "<table>\n",
       "<thead><tr><th scope=col>Q1</th><th scope=col>Q2</th><th scope=col>Q3</th><th scope=col>Q4</th><th scope=col>Q5</th><th scope=col>Q6</th><th scope=col>Q7</th><th scope=col>Q8</th><th scope=col>Q9</th><th scope=col>Q10</th><th scope=col>Q11</th></tr></thead>\n",
       "<tbody>\n",
       "\t<tr><td>1</td><td>5</td><td>4</td><td>5</td><td>4</td><td>5</td><td>5</td><td>5</td><td>4</td><td>5</td><td>4</td></tr>\n",
       "\t<tr><td>3</td><td>4</td><td>5</td><td>3</td><td>2</td><td>5</td><td>5</td><td>4</td><td>4</td><td>3</td><td>3</td></tr>\n",
       "\t<tr><td>1</td><td>4</td><td>3</td><td>4</td><td>3</td><td>4</td><td>5</td><td>5</td><td>4</td><td>3</td><td>2</td></tr>\n",
       "\t<tr><td>4</td><td>5</td><td>3</td><td>2</td><td>3</td><td>2</td><td>5</td><td>4</td><td>4</td><td>4</td><td>5</td></tr>\n",
       "\t<tr><td>4</td><td>3</td><td>4</td><td>2</td><td>2</td><td>4</td><td>5</td><td>4</td><td>4</td><td>4</td><td>5</td></tr>\n",
       "\t<tr><td>1</td><td>4</td><td>3</td><td>4</td><td>4</td><td>4</td><td>5</td><td>3</td><td>3</td><td>4</td><td>4</td></tr>\n",
       "</tbody>\n",
       "</table>\n"
      ],
      "text/latex": [
       "\\begin{tabular}{r|lllllllllll}\n",
       " Q1 & Q2 & Q3 & Q4 & Q5 & Q6 & Q7 & Q8 & Q9 & Q10 & Q11\\\\\n",
       "\\hline\n",
       "\t 1 & 5 & 4 & 5 & 4 & 5 & 5 & 5 & 4 & 5 & 4\\\\\n",
       "\t 3 & 4 & 5 & 3 & 2 & 5 & 5 & 4 & 4 & 3 & 3\\\\\n",
       "\t 1 & 4 & 3 & 4 & 3 & 4 & 5 & 5 & 4 & 3 & 2\\\\\n",
       "\t 4 & 5 & 3 & 2 & 3 & 2 & 5 & 4 & 4 & 4 & 5\\\\\n",
       "\t 4 & 3 & 4 & 2 & 2 & 4 & 5 & 4 & 4 & 4 & 5\\\\\n",
       "\t 1 & 4 & 3 & 4 & 4 & 4 & 5 & 3 & 3 & 4 & 4\\\\\n",
       "\\end{tabular}\n"
      ],
      "text/markdown": [
       "\n",
       "| Q1 | Q2 | Q3 | Q4 | Q5 | Q6 | Q7 | Q8 | Q9 | Q10 | Q11 |\n",
       "|---|---|---|---|---|---|---|---|---|---|---|\n",
       "| 1 | 5 | 4 | 5 | 4 | 5 | 5 | 5 | 4 | 5 | 4 |\n",
       "| 3 | 4 | 5 | 3 | 2 | 5 | 5 | 4 | 4 | 3 | 3 |\n",
       "| 1 | 4 | 3 | 4 | 3 | 4 | 5 | 5 | 4 | 3 | 2 |\n",
       "| 4 | 5 | 3 | 2 | 3 | 2 | 5 | 4 | 4 | 4 | 5 |\n",
       "| 4 | 3 | 4 | 2 | 2 | 4 | 5 | 4 | 4 | 4 | 5 |\n",
       "| 1 | 4 | 3 | 4 | 4 | 4 | 5 | 3 | 3 | 4 | 4 |\n",
       "\n"
      ],
      "text/plain": [
       "  Q1 Q2 Q3 Q4 Q5 Q6 Q7 Q8 Q9 Q10 Q11\n",
       "1 1  5  4  5  4  5  5  5  4  5   4  \n",
       "2 3  4  5  3  2  5  5  4  4  3   3  \n",
       "3 1  4  3  4  3  4  5  5  4  3   2  \n",
       "4 4  5  3  2  3  2  5  4  4  4   5  \n",
       "5 4  3  4  2  2  4  5  4  4  4   5  \n",
       "6 1  4  3  4  4  4  5  3  3  4   4  "
      ]
     },
     "metadata": {},
     "output_type": "display_data"
    }
   ],
   "source": [
    "head(mydata)"
   ]
  },
  {
   "cell_type": "code",
   "execution_count": 4,
   "metadata": {},
   "outputs": [],
   "source": [
    "library(psych)\n",
    "library('psych')"
   ]
  },
  {
   "cell_type": "code",
   "execution_count": 5,
   "metadata": {},
   "outputs": [
    {
     "name": "stderr",
     "output_type": "stream",
     "text": [
      "Warning message in alpha(mydata):\n",
      "\"Some items were negatively correlated with the total scale and probably \n",
      "should be reversed.  \n",
      "To do this, run the function again with the 'check.keys=TRUE' option\""
     ]
    },
    {
     "name": "stdout",
     "output_type": "stream",
     "text": [
      "Some items ( Q5 ) were negatively correlated with the total scale and \n",
      "probably should be reversed.  \n",
      "To do this, run the function again with the 'check.keys=TRUE' option"
     ]
    },
    {
     "data": {
      "text/plain": [
       "\n",
       "Reliability analysis   \n",
       "Call: alpha(x = mydata)\n",
       "\n",
       "  raw_alpha std.alpha G6(smc) average_r S/N   ase mean   sd median_r\n",
       "      0.45      0.51    0.53     0.088 1.1 0.036  3.7 0.33    0.085\n",
       "\n",
       " lower alpha upper     95% confidence boundaries\n",
       "0.38 0.45 0.53 \n",
       "\n",
       " Reliability if an item is dropped:\n",
       "    raw_alpha std.alpha G6(smc) average_r  S/N alpha se  var.r med.r\n",
       "Q1       0.50      0.53    0.55     0.102 1.14    0.033 0.0114 0.108\n",
       "Q2       0.43      0.50    0.52     0.090 0.98    0.038 0.0131 0.085\n",
       "Q3       0.47      0.52    0.53     0.099 1.09    0.036 0.0099 0.098\n",
       "Q4       0.41      0.48    0.49     0.083 0.91    0.040 0.0121 0.075\n",
       "Q5       0.51      0.55    0.55     0.111 1.24    0.033 0.0065 0.099\n",
       "Q6       0.42      0.49    0.51     0.087 0.95    0.039 0.0128 0.076\n",
       "Q7       0.41      0.47    0.49     0.082 0.89    0.039 0.0114 0.083\n",
       "Q8       0.39      0.44    0.46     0.073 0.79    0.041 0.0090 0.075\n",
       "Q9       0.38      0.44    0.46     0.073 0.78    0.041 0.0111 0.075\n",
       "Q10      0.39      0.46    0.47     0.077 0.84    0.040 0.0106 0.083\n",
       "Q11      0.43      0.49    0.51     0.088 0.96    0.038 0.0120 0.088\n",
       "\n",
       " Item statistics \n",
       "      n raw.r std.r  r.cor r.drop mean   sd\n",
       "Q1  504  0.35  0.27 0.0733  0.031  2.6 1.17\n",
       "Q2  504  0.39  0.39 0.2539  0.191  3.9 0.79\n",
       "Q3  504  0.30  0.30 0.1516  0.061  3.7 0.89\n",
       "Q4  504  0.47  0.45 0.3586  0.247  3.7 0.89\n",
       "Q5  504  0.23  0.18 0.0063 -0.035  2.6 0.98\n",
       "Q6  504  0.47  0.42 0.3011  0.218  3.7 1.00\n",
       "Q7  504  0.41  0.47 0.3849  0.255  4.5 0.64\n",
       "Q8  504  0.49  0.56 0.5276  0.339  4.4 0.67\n",
       "Q9  504  0.53  0.56 0.5171  0.369  3.9 0.70\n",
       "Q10 504  0.48  0.52 0.4570  0.305  3.9 0.73\n",
       "Q11 504  0.36  0.41 0.2873  0.184  4.4 0.68\n",
       "\n",
       "Non missing response frequency for each item\n",
       "       1    2    3    4    5 miss\n",
       "Q1  0.19 0.32 0.18 0.27 0.04    0\n",
       "Q2  0.01 0.05 0.16 0.60 0.17    0\n",
       "Q3  0.00 0.09 0.33 0.40 0.18    0\n",
       "Q4  0.00 0.12 0.20 0.51 0.16    0\n",
       "Q5  0.11 0.43 0.25 0.20 0.02    0\n",
       "Q6  0.01 0.17 0.15 0.46 0.20    0\n",
       "Q7  0.00 0.02 0.02 0.42 0.54    0\n",
       "Q8  0.00 0.02 0.05 0.49 0.44    0\n",
       "Q9  0.00 0.04 0.16 0.63 0.18    0\n",
       "Q10 0.00 0.04 0.22 0.56 0.18    0\n",
       "Q11 0.00 0.02 0.04 0.46 0.48    0"
      ]
     },
     "metadata": {},
     "output_type": "display_data"
    },
    {
     "name": "stdout",
     "output_type": "stream",
     "text": [
      "[1] \"Q1 = Apakah anda pernah membuat story board?\"\n",
      "[1] \"Q2 = Aplikasi Adobe Photoshop bajakan lebih banyak digunakan dibandingkan yang legal dan berbayar\"\n",
      "[1] \"Q3 = Aplikasi Canva lebih banyak dipakai mahasiswa dibandingkan dengan Adobe Photoshop\"\n",
      "[1] \"Q4 = Diperlukan waktu lama untuk mahir dalam membuat poster\"\n",
      "[1] \"Q5 = Tingkat kesulitan dalam menjalankan aplikasi CanvA\"\n",
      "[1] \"Q6 = Jenis font lebih berpengaruh daripada warna font\"\n",
      "[1] \"Q7 = Logo yang baik dapat memperkuat identitas dari sebuah brand\"\n",
      "[1] \"Q8 = Pekerjaan desainer grafis sangat diperlukan di masa sekarang\"\n",
      "[1] \"Q9 = Bidang profesi desain grafis banyak berkecimpung dalam kegiatan penerbitan Publishing House\"\n",
      "[1] \"Q10 = Pekerjaan dari desain grafis mendapat banyak keuntungan dari dalam perdagangan\"\n",
      "[1] \"Q11 = Hasil karya harus dapat membawakan pesan yang dapat diinterpretasikan sama oleh semua pihak\"\n"
     ]
    }
   ],
   "source": [
    "alpha(mydata)\n",
    "print('Q1 = Apakah anda pernah membuat story board?')\n",
    "print('Q2 = Aplikasi Adobe Photoshop bajakan lebih banyak digunakan dibandingkan yang legal dan berbayar')\n",
    "print('Q3 = Aplikasi Canva lebih banyak dipakai mahasiswa dibandingkan dengan Adobe Photoshop')\n",
    "print('Q4 = Diperlukan waktu lama untuk mahir dalam membuat poster')\n",
    "print('Q5 = Tingkat kesulitan dalam menjalankan aplikasi CanvA')\n",
    "print('Q6 = Jenis font lebih berpengaruh daripada warna font')\n",
    "print('Q7 = Logo yang baik dapat memperkuat identitas dari sebuah brand')\n",
    "print('Q8 = Pekerjaan desainer grafis sangat diperlukan di masa sekarang')\n",
    "print('Q9 = Bidang profesi desain grafis banyak berkecimpung dalam kegiatan penerbitan Publishing House')\n",
    "print('Q10 = Pekerjaan dari desain grafis mendapat banyak keuntungan dari dalam perdagangan')\n",
    "print('Q11 = Hasil karya harus dapat membawakan pesan yang dapat diinterpretasikan sama oleh semua pihak')"
   ]
  },
  {
   "cell_type": "code",
   "execution_count": 7,
   "metadata": {},
   "outputs": [
    {
     "data": {
      "text/html": [
       "<ol class=list-inline>\n",
       "\t<li>'Q1'</li>\n",
       "\t<li>'Q2'</li>\n",
       "\t<li>'Q3'</li>\n",
       "\t<li>'Q4'</li>\n",
       "\t<li>'Q5'</li>\n",
       "\t<li>'Q6'</li>\n",
       "\t<li>'Q7'</li>\n",
       "\t<li>'Q8'</li>\n",
       "\t<li>'Q9'</li>\n",
       "\t<li>'Q10'</li>\n",
       "\t<li>'Q11'</li>\n",
       "</ol>\n"
      ],
      "text/latex": [
       "\\begin{enumerate*}\n",
       "\\item 'Q1'\n",
       "\\item 'Q2'\n",
       "\\item 'Q3'\n",
       "\\item 'Q4'\n",
       "\\item 'Q5'\n",
       "\\item 'Q6'\n",
       "\\item 'Q7'\n",
       "\\item 'Q8'\n",
       "\\item 'Q9'\n",
       "\\item 'Q10'\n",
       "\\item 'Q11'\n",
       "\\end{enumerate*}\n"
      ],
      "text/markdown": [
       "1. 'Q1'\n",
       "2. 'Q2'\n",
       "3. 'Q3'\n",
       "4. 'Q4'\n",
       "5. 'Q5'\n",
       "6. 'Q6'\n",
       "7. 'Q7'\n",
       "8. 'Q8'\n",
       "9. 'Q9'\n",
       "10. 'Q10'\n",
       "11. 'Q11'\n",
       "\n",
       "\n"
      ],
      "text/plain": [
       " [1] \"Q1\"  \"Q2\"  \"Q3\"  \"Q4\"  \"Q5\"  \"Q6\"  \"Q7\"  \"Q8\"  \"Q9\"  \"Q10\" \"Q11\""
      ]
     },
     "metadata": {},
     "output_type": "display_data"
    }
   ],
   "source": [
    "Ttest_data = read.csv (file.choose(), header=T)\n",
    "names (Ttest_data)"
   ]
  },
  {
   "cell_type": "code",
   "execution_count": 8,
   "metadata": {},
   "outputs": [
    {
     "data": {
      "text/plain": [
       "\n",
       "\tPaired t-test\n",
       "\n",
       "data:  Q1 and Q2\n",
       "t = -20.306, df = 503, p-value < 2.2e-16\n",
       "alternative hypothesis: true difference in means is not equal to 0\n",
       "95 percent confidence interval:\n",
       " -1.362236 -1.121891\n",
       "sample estimates:\n",
       "mean of the differences \n",
       "              -1.242063 \n"
      ]
     },
     "metadata": {},
     "output_type": "display_data"
    },
    {
     "data": {
      "image/png": "[encoded data removed]",
      "text/plain": [
       "plot without title"
      ]
     },
     "metadata": {},
     "output_type": "display_data"
    }
   ],
   "source": [
    "attach (Ttest_data)\n",
    "boxplot(Q1,Q2,Q3,Q4,Q5,Q6,Q7,Q8,Q9,Q10,Q11)\n",
    "t.test (Q1,Q2,Q3,Q4,Q5,Q6,Q7,Q8,Q9,Q10,Q11, mu=0, alt=\"two.sided\", paired=T, conf.level=0.95)"
   ]
  },
  {
   "cell_type": "code",
   "execution_count": 9,
   "metadata": {},
   "outputs": [
    {
     "name": "stderr",
     "output_type": "stream",
     "text": [
      "The following objects are masked from Ttest_data (pos = 3):\n",
      "\n",
      "    Q1, Q10, Q11, Q2, Q3, Q4, Q5, Q6, Q7, Q8, Q9\n",
      "\n"
     ]
    },
    {
     "data": {
      "text/plain": [
       "\n",
       "\tPaired t-test\n",
       "\n",
       "data:  Q1 and Q2\n",
       "t = -20.306, df = 503, p-value < 2.2e-16\n",
       "alternative hypothesis: true difference in means is not equal to 0\n",
       "95 percent confidence interval:\n",
       " -1.362236 -1.121891\n",
       "sample estimates:\n",
       "mean of the differences \n",
       "              -1.242063 \n"
      ]
     },
     "metadata": {},
     "output_type": "display_data"
    }
   ],
   "source": [
    "\n",
    "attach (Ttest_data)\n",
    "t.test (Q1,Q2, mu=0, alt=\"two.sided\", paired=T, conf.level=0.95)"
   ]
  },
  {
   "cell_type": "code",
   "execution_count": 10,
   "metadata": {},
   "outputs": [
    {
     "name": "stderr",
     "output_type": "stream",
     "text": [
      "The following objects are masked from Ttest_data (pos = 3):\n",
      "\n",
      "    Q1, Q10, Q11, Q2, Q3, Q4, Q5, Q6, Q7, Q8, Q9\n",
      "\n",
      "The following objects are masked from Ttest_data (pos = 4):\n",
      "\n",
      "    Q1, Q10, Q11, Q2, Q3, Q4, Q5, Q6, Q7, Q8, Q9\n",
      "\n"
     ]
    },
    {
     "data": {
      "text/plain": [
       "\n",
       "\tPaired t-test\n",
       "\n",
       "data:  Q3 and Q4\n",
       "t = -0.55594, df = 503, p-value = 0.5785\n",
       "alternative hypothesis: true difference in means is not equal to 0\n",
       "95 percent confidence interval:\n",
       " -0.13494087  0.07541706\n",
       "sample estimates:\n",
       "mean of the differences \n",
       "             -0.0297619 \n"
      ]
     },
     "metadata": {},
     "output_type": "display_data"
    }
   ],
   "source": [
    "attach (Ttest_data)\n",
    "t.test (Q3,Q4, mu=0, alt=\"two.sided\", paired=T, conf.level=0.95)"
   ]
  },
  {
   "cell_type": "code",
   "execution_count": 11,
   "metadata": {},
   "outputs": [
    {
     "name": "stderr",
     "output_type": "stream",
     "text": [
      "The following objects are masked from Ttest_data (pos = 3):\n",
      "\n",
      "    Q1, Q10, Q11, Q2, Q3, Q4, Q5, Q6, Q7, Q8, Q9\n",
      "\n",
      "The following objects are masked from Ttest_data (pos = 4):\n",
      "\n",
      "    Q1, Q10, Q11, Q2, Q3, Q4, Q5, Q6, Q7, Q8, Q9\n",
      "\n",
      "The following objects are masked from Ttest_data (pos = 5):\n",
      "\n",
      "    Q1, Q10, Q11, Q2, Q3, Q4, Q5, Q6, Q7, Q8, Q9\n",
      "\n"
     ]
    },
    {
     "data": {
      "text/plain": [
       "\n",
       "\tPaired t-test\n",
       "\n",
       "data:  Q5 and Q6\n",
       "t = -18.98, df = 503, p-value < 2.2e-16\n",
       "alternative hypothesis: true difference in means is not equal to 0\n",
       "95 percent confidence interval:\n",
       " -1.2020402 -0.9765313\n",
       "sample estimates:\n",
       "mean of the differences \n",
       "              -1.089286 \n"
      ]
     },
     "metadata": {},
     "output_type": "display_data"
    }
   ],
   "source": [
    "attach (Ttest_data)\n",
    "t.test (Q5,Q6, mu=0, alt=\"two.sided\", paired=T, conf.level=0.95)"
   ]
  },
  {
   "cell_type": "code",
   "execution_count": 12,
   "metadata": {},
   "outputs": [
    {
     "name": "stderr",
     "output_type": "stream",
     "text": [
      "The following objects are masked from Ttest_data (pos = 3):\n",
      "\n",
      "    Q1, Q10, Q11, Q2, Q3, Q4, Q5, Q6, Q7, Q8, Q9\n",
      "\n",
      "The following objects are masked from Ttest_data (pos = 4):\n",
      "\n",
      "    Q1, Q10, Q11, Q2, Q3, Q4, Q5, Q6, Q7, Q8, Q9\n",
      "\n",
      "The following objects are masked from Ttest_data (pos = 5):\n",
      "\n",
      "    Q1, Q10, Q11, Q2, Q3, Q4, Q5, Q6, Q7, Q8, Q9\n",
      "\n",
      "The following objects are masked from Ttest_data (pos = 6):\n",
      "\n",
      "    Q1, Q10, Q11, Q2, Q3, Q4, Q5, Q6, Q7, Q8, Q9\n",
      "\n"
     ]
    },
    {
     "data": {
      "text/plain": [
       "\n",
       "\tPaired t-test\n",
       "\n",
       "data:  Q7 and Q8\n",
       "t = 3.8108, df = 503, p-value = 0.0001557\n",
       "alternative hypothesis: true difference in means is not equal to 0\n",
       "95 percent confidence interval:\n",
       " 0.06343899 0.19846577\n",
       "sample estimates:\n",
       "mean of the differences \n",
       "              0.1309524 \n"
      ]
     },
     "metadata": {},
     "output_type": "display_data"
    }
   ],
   "source": [
    "attach (Ttest_data)\n",
    "t.test (Q7,Q8, mu=0, alt=\"two.sided\", paired=T, conf.level=0.95)"
   ]
  },
  {
   "cell_type": "code",
   "execution_count": 13,
   "metadata": {},
   "outputs": [
    {
     "name": "stderr",
     "output_type": "stream",
     "text": [
      "The following objects are masked from Ttest_data (pos = 3):\n",
      "\n",
      "    Q1, Q10, Q11, Q2, Q3, Q4, Q5, Q6, Q7, Q8, Q9\n",
      "\n",
      "The following objects are masked from Ttest_data (pos = 4):\n",
      "\n",
      "    Q1, Q10, Q11, Q2, Q3, Q4, Q5, Q6, Q7, Q8, Q9\n",
      "\n",
      "The following objects are masked from Ttest_data (pos = 5):\n",
      "\n",
      "    Q1, Q10, Q11, Q2, Q3, Q4, Q5, Q6, Q7, Q8, Q9\n",
      "\n",
      "The following objects are masked from Ttest_data (pos = 6):\n",
      "\n",
      "    Q1, Q10, Q11, Q2, Q3, Q4, Q5, Q6, Q7, Q8, Q9\n",
      "\n",
      "The following objects are masked from Ttest_data (pos = 7):\n",
      "\n",
      "    Q1, Q10, Q11, Q2, Q3, Q4, Q5, Q6, Q7, Q8, Q9\n",
      "\n"
     ]
    },
    {
     "data": {
      "text/plain": [
       "\n",
       "\tPaired t-test\n",
       "\n",
       "data:  Q9 and Q10\n",
       "t = 1.6575, df = 503, p-value = 0.09803\n",
       "alternative hypothesis: true difference in means is not equal to 0\n",
       "95 percent confidence interval:\n",
       " -0.01176513  0.13874926\n",
       "sample estimates:\n",
       "mean of the differences \n",
       "             0.06349206 \n"
      ]
     },
     "metadata": {},
     "output_type": "display_data"
    }
   ],
   "source": [
    "attach (Ttest_data)\n",
    "t.test (Q9,Q10, mu=0, alt=\"two.sided\", paired=T, conf.level=0.95)"
   ]
  },
  {
   "cell_type": "code",
   "execution_count": 15,
   "metadata": {},
   "outputs": [],
   "source": [
    "mydata<-read.csv('dataresponn (1).csv')"
   ]
  },
  {
   "cell_type": "code",
   "execution_count": 16,
   "metadata": {},
   "outputs": [
    {
     "data": {
      "text/html": [
       "<table>\n",
       "<thead><tr><th scope=col>Q1</th><th scope=col>Q2</th><th scope=col>Q3</th><th scope=col>Q4</th><th scope=col>Q5</th><th scope=col>Q6</th><th scope=col>Q7</th><th scope=col>Q8</th><th scope=col>Q9</th><th scope=col>Q10</th><th scope=col>Q11</th></tr></thead>\n",
       "<tbody>\n",
       "\t<tr><td>1</td><td>5</td><td>4</td><td>5</td><td>4</td><td>5</td><td>5</td><td>5</td><td>4</td><td>5</td><td>4</td></tr>\n",
       "\t<tr><td>3</td><td>4</td><td>5</td><td>3</td><td>2</td><td>5</td><td>5</td><td>4</td><td>4</td><td>3</td><td>3</td></tr>\n",
       "\t<tr><td>1</td><td>4</td><td>3</td><td>4</td><td>3</td><td>4</td><td>5</td><td>5</td><td>4</td><td>3</td><td>2</td></tr>\n",
       "\t<tr><td>4</td><td>5</td><td>3</td><td>2</td><td>3</td><td>2</td><td>5</td><td>4</td><td>4</td><td>4</td><td>5</td></tr>\n",
       "\t<tr><td>4</td><td>3</td><td>4</td><td>2</td><td>2</td><td>4</td><td>5</td><td>4</td><td>4</td><td>4</td><td>5</td></tr>\n",
       "\t<tr><td>1</td><td>4</td><td>3</td><td>4</td><td>4</td><td>4</td><td>5</td><td>3</td><td>3</td><td>4</td><td>4</td></tr>\n",
       "\t<tr><td>4</td><td>4</td><td>5</td><td>2</td><td>1</td><td>4</td><td>5</td><td>5</td><td>5</td><td>5</td><td>5</td></tr>\n",
       "\t<tr><td>3</td><td>5</td><td>2</td><td>3</td><td>2</td><td>5</td><td>5</td><td>4</td><td>2</td><td>4</td><td>4</td></tr>\n",
       "\t<tr><td>1</td><td>3</td><td>3</td><td>3</td><td>3</td><td>3</td><td>3</td><td>3</td><td>3</td><td>3</td><td>3</td></tr>\n",
       "\t<tr><td>2</td><td>4</td><td>5</td><td>4</td><td>2</td><td>4</td><td>4</td><td>4</td><td>3</td><td>5</td><td>4</td></tr>\n",
       "\t<tr><td>1</td><td>4</td><td>4</td><td>2</td><td>1</td><td>2</td><td>4</td><td>5</td><td>2</td><td>4</td><td>4</td></tr>\n",
       "\t<tr><td>4</td><td>5</td><td>5</td><td>5</td><td>2</td><td>4</td><td>4</td><td>5</td><td>5</td><td>4</td><td>5</td></tr>\n",
       "\t<tr><td>2</td><td>4</td><td>4</td><td>4</td><td>2</td><td>2</td><td>5</td><td>5</td><td>4</td><td>4</td><td>4</td></tr>\n",
       "\t<tr><td>1</td><td>4</td><td>4</td><td>4</td><td>3</td><td>2</td><td>4</td><td>4</td><td>4</td><td>4</td><td>5</td></tr>\n",
       "\t<tr><td>2</td><td>5</td><td>4</td><td>3</td><td>2</td><td>4</td><td>5</td><td>4</td><td>4</td><td>3</td><td>4</td></tr>\n",
       "\t<tr><td>3</td><td>5</td><td>4</td><td>4</td><td>2</td><td>4</td><td>4</td><td>5</td><td>4</td><td>4</td><td>5</td></tr>\n",
       "\t<tr><td>2</td><td>2</td><td>3</td><td>4</td><td>1</td><td>2</td><td>5</td><td>5</td><td>4</td><td>5</td><td>5</td></tr>\n",
       "\t<tr><td>2</td><td>5</td><td>5</td><td>4</td><td>3</td><td>3</td><td>4</td><td>4</td><td>4</td><td>3</td><td>4</td></tr>\n",
       "\t<tr><td>4</td><td>4</td><td>4</td><td>5</td><td>2</td><td>2</td><td>5</td><td>5</td><td>3</td><td>4</td><td>5</td></tr>\n",
       "\t<tr><td>3</td><td>4</td><td>4</td><td>4</td><td>2</td><td>3</td><td>4</td><td>5</td><td>4</td><td>4</td><td>4</td></tr>\n",
       "\t<tr><td>2</td><td>4</td><td>4</td><td>5</td><td>2</td><td>4</td><td>4</td><td>4</td><td>4</td><td>3</td><td>3</td></tr>\n",
       "\t<tr><td>1</td><td>4</td><td>3</td><td>2</td><td>4</td><td>4</td><td>4</td><td>3</td><td>3</td><td>4</td><td>4</td></tr>\n",
       "\t<tr><td>4</td><td>4</td><td>4</td><td>4</td><td>3</td><td>2</td><td>5</td><td>5</td><td>4</td><td>5</td><td>5</td></tr>\n",
       "\t<tr><td>3</td><td>4</td><td>3</td><td>2</td><td>2</td><td>4</td><td>4</td><td>4</td><td>4</td><td>3</td><td>4</td></tr>\n",
       "\t<tr><td>3</td><td>4</td><td>4</td><td>3</td><td>2</td><td>3</td><td>4</td><td>4</td><td>3</td><td>3</td><td>4</td></tr>\n",
       "\t<tr><td>1</td><td>4</td><td>2</td><td>3</td><td>4</td><td>4</td><td>4</td><td>4</td><td>4</td><td>4</td><td>4</td></tr>\n",
       "\t<tr><td>5</td><td>5</td><td>5</td><td>5</td><td>5</td><td>5</td><td>5</td><td>5</td><td>5</td><td>5</td><td>5</td></tr>\n",
       "\t<tr><td>4</td><td>5</td><td>3</td><td>4</td><td>4</td><td>5</td><td>5</td><td>5</td><td>3</td><td>4</td><td>5</td></tr>\n",
       "\t<tr><td>3</td><td>4</td><td>3</td><td>4</td><td>3</td><td>4</td><td>5</td><td>5</td><td>5</td><td>3</td><td>4</td></tr>\n",
       "\t<tr><td>2</td><td>2</td><td>5</td><td>4</td><td>1</td><td>4</td><td>5</td><td>2</td><td>4</td><td>3</td><td>5</td></tr>\n",
       "\t<tr><td>...</td><td>...</td><td>...</td><td>...</td><td>...</td><td>...</td><td>...</td><td>...</td><td>...</td><td>...</td><td>...</td></tr>\n",
       "\t<tr><td>3</td><td>4</td><td>5</td><td>3</td><td>2</td><td>3</td><td>5</td><td>5</td><td>4</td><td>4</td><td>5</td></tr>\n",
       "\t<tr><td>3</td><td>5</td><td>5</td><td>5</td><td>2</td><td>5</td><td>5</td><td>5</td><td>5</td><td>5</td><td>4</td></tr>\n",
       "\t<tr><td>2</td><td>4</td><td>4</td><td>4</td><td>2</td><td>2</td><td>4</td><td>5</td><td>4</td><td>3</td><td>5</td></tr>\n",
       "\t<tr><td>3</td><td>3</td><td>4</td><td>4</td><td>4</td><td>5</td><td>5</td><td>5</td><td>4</td><td>4</td><td>3</td></tr>\n",
       "\t<tr><td>3</td><td>3</td><td>4</td><td>5</td><td>2</td><td>4</td><td>4</td><td>4</td><td>4</td><td>4</td><td>5</td></tr>\n",
       "\t<tr><td>1</td><td>3</td><td>4</td><td>4</td><td>3</td><td>4</td><td>4</td><td>4</td><td>4</td><td>2</td><td>5</td></tr>\n",
       "\t<tr><td>5</td><td>3</td><td>5</td><td>4</td><td>3</td><td>5</td><td>4</td><td>4</td><td>4</td><td>3</td><td>4</td></tr>\n",
       "\t<tr><td>2</td><td>4</td><td>5</td><td>4</td><td>2</td><td>4</td><td>5</td><td>4</td><td>4</td><td>4</td><td>4</td></tr>\n",
       "\t<tr><td>2</td><td>4</td><td>4</td><td>4</td><td>2</td><td>3</td><td>5</td><td>5</td><td>4</td><td>4</td><td>5</td></tr>\n",
       "\t<tr><td>1</td><td>4</td><td>5</td><td>4</td><td>2</td><td>4</td><td>4</td><td>5</td><td>4</td><td>3</td><td>5</td></tr>\n",
       "\t<tr><td>2</td><td>4</td><td>3</td><td>4</td><td>3</td><td>4</td><td>4</td><td>4</td><td>4</td><td>4</td><td>4</td></tr>\n",
       "\t<tr><td>2</td><td>4</td><td>3</td><td>4</td><td>3</td><td>3</td><td>4</td><td>4</td><td>4</td><td>3</td><td>4</td></tr>\n",
       "\t<tr><td>1</td><td>2</td><td>3</td><td>3</td><td>3</td><td>2</td><td>5</td><td>5</td><td>5</td><td>5</td><td>5</td></tr>\n",
       "\t<tr><td>2</td><td>4</td><td>3</td><td>4</td><td>3</td><td>4</td><td>4</td><td>4</td><td>4</td><td>4</td><td>5</td></tr>\n",
       "\t<tr><td>4</td><td>4</td><td>3</td><td>4</td><td>4</td><td>2</td><td>5</td><td>5</td><td>4</td><td>4</td><td>4</td></tr>\n",
       "\t<tr><td>4</td><td>4</td><td>5</td><td>4</td><td>2</td><td>4</td><td>4</td><td>4</td><td>4</td><td>4</td><td>4</td></tr>\n",
       "\t<tr><td>3</td><td>4</td><td>3</td><td>4</td><td>2</td><td>2</td><td>4</td><td>4</td><td>3</td><td>3</td><td>4</td></tr>\n",
       "\t<tr><td>1</td><td>4</td><td>4</td><td>3</td><td>2</td><td>2</td><td>4</td><td>4</td><td>4</td><td>4</td><td>4</td></tr>\n",
       "\t<tr><td>3</td><td>4</td><td>5</td><td>4</td><td>2</td><td>4</td><td>4</td><td>4</td><td>5</td><td>4</td><td>4</td></tr>\n",
       "\t<tr><td>4</td><td>4</td><td>3</td><td>4</td><td>3</td><td>4</td><td>4</td><td>4</td><td>5</td><td>4</td><td>4</td></tr>\n",
       "\t<tr><td>5</td><td>3</td><td>3</td><td>4</td><td>3</td><td>5</td><td>5</td><td>5</td><td>3</td><td>2</td><td>4</td></tr>\n",
       "\t<tr><td>4</td><td>4</td><td>2</td><td>3</td><td>2</td><td>2</td><td>5</td><td>5</td><td>2</td><td>4</td><td>5</td></tr>\n",
       "\t<tr><td>4</td><td>4</td><td>3</td><td>4</td><td>1</td><td>3</td><td>5</td><td>5</td><td>4</td><td>4</td><td>4</td></tr>\n",
       "\t<tr><td>4</td><td>3</td><td>4</td><td>4</td><td>2</td><td>2</td><td>4</td><td>4</td><td>3</td><td>3</td><td>5</td></tr>\n",
       "\t<tr><td>4</td><td>5</td><td>5</td><td>2</td><td>1</td><td>4</td><td>5</td><td>4</td><td>4</td><td>5</td><td>4</td></tr>\n",
       "\t<tr><td>2</td><td>4</td><td>3</td><td>2</td><td>2</td><td>3</td><td>4</td><td>4</td><td>3</td><td>3</td><td>5</td></tr>\n",
       "\t<tr><td>3</td><td>3</td><td>4</td><td>4</td><td>2</td><td>5</td><td>4</td><td>5</td><td>5</td><td>5</td><td>4</td></tr>\n",
       "\t<tr><td>4</td><td>4</td><td>5</td><td>5</td><td>2</td><td>2</td><td>5</td><td>4</td><td>4</td><td>4</td><td>5</td></tr>\n",
       "\t<tr><td>1</td><td>3</td><td>3</td><td>4</td><td>4</td><td>4</td><td>5</td><td>5</td><td>5</td><td>3</td><td>5</td></tr>\n",
       "\t<tr><td>2</td><td>4</td><td>4</td><td>3</td><td>2</td><td>3</td><td>5</td><td>5</td><td>3</td><td>3</td><td>4</td></tr>\n",
       "</tbody>\n",
       "</table>\n"
      ],
      "text/latex": [
       "\\begin{tabular}{r|lllllllllll}\n",
       " Q1 & Q2 & Q3 & Q4 & Q5 & Q6 & Q7 & Q8 & Q9 & Q10 & Q11\\\\\n",
       "\\hline\n",
       "\t 1 & 5 & 4 & 5 & 4 & 5 & 5 & 5 & 4 & 5 & 4\\\\\n",
       "\t 3 & 4 & 5 & 3 & 2 & 5 & 5 & 4 & 4 & 3 & 3\\\\\n",
       "\t 1 & 4 & 3 & 4 & 3 & 4 & 5 & 5 & 4 & 3 & 2\\\\\n",
       "\t 4 & 5 & 3 & 2 & 3 & 2 & 5 & 4 & 4 & 4 & 5\\\\\n",
       "\t 4 & 3 & 4 & 2 & 2 & 4 & 5 & 4 & 4 & 4 & 5\\\\\n",
       "\t 1 & 4 & 3 & 4 & 4 & 4 & 5 & 3 & 3 & 4 & 4\\\\\n",
       "\t 4 & 4 & 5 & 2 & 1 & 4 & 5 & 5 & 5 & 5 & 5\\\\\n",
       "\t 3 & 5 & 2 & 3 & 2 & 5 & 5 & 4 & 2 & 4 & 4\\\\\n",
       "\t 1 & 3 & 3 & 3 & 3 & 3 & 3 & 3 & 3 & 3 & 3\\\\\n",
       "\t 2 & 4 & 5 & 4 & 2 & 4 & 4 & 4 & 3 & 5 & 4\\\\\n",
       "\t 1 & 4 & 4 & 2 & 1 & 2 & 4 & 5 & 2 & 4 & 4\\\\\n",
       "\t 4 & 5 & 5 & 5 & 2 & 4 & 4 & 5 & 5 & 4 & 5\\\\\n",
       "\t 2 & 4 & 4 & 4 & 2 & 2 & 5 & 5 & 4 & 4 & 4\\\\\n",
       "\t 1 & 4 & 4 & 4 & 3 & 2 & 4 & 4 & 4 & 4 & 5\\\\\n",
       "\t 2 & 5 & 4 & 3 & 2 & 4 & 5 & 4 & 4 & 3 & 4\\\\\n",
       "\t 3 & 5 & 4 & 4 & 2 & 4 & 4 & 5 & 4 & 4 & 5\\\\\n",
       "\t 2 & 2 & 3 & 4 & 1 & 2 & 5 & 5 & 4 & 5 & 5\\\\\n",
       "\t 2 & 5 & 5 & 4 & 3 & 3 & 4 & 4 & 4 & 3 & 4\\\\\n",
       "\t 4 & 4 & 4 & 5 & 2 & 2 & 5 & 5 & 3 & 4 & 5\\\\\n",
       "\t 3 & 4 & 4 & 4 & 2 & 3 & 4 & 5 & 4 & 4 & 4\\\\\n",
       "\t 2 & 4 & 4 & 5 & 2 & 4 & 4 & 4 & 4 & 3 & 3\\\\\n",
       "\t 1 & 4 & 3 & 2 & 4 & 4 & 4 & 3 & 3 & 4 & 4\\\\\n",
       "\t 4 & 4 & 4 & 4 & 3 & 2 & 5 & 5 & 4 & 5 & 5\\\\\n",
       "\t 3 & 4 & 3 & 2 & 2 & 4 & 4 & 4 & 4 & 3 & 4\\\\\n",
       "\t 3 & 4 & 4 & 3 & 2 & 3 & 4 & 4 & 3 & 3 & 4\\\\\n",
       "\t 1 & 4 & 2 & 3 & 4 & 4 & 4 & 4 & 4 & 4 & 4\\\\\n",
       "\t 5 & 5 & 5 & 5 & 5 & 5 & 5 & 5 & 5 & 5 & 5\\\\\n",
       "\t 4 & 5 & 3 & 4 & 4 & 5 & 5 & 5 & 3 & 4 & 5\\\\\n",
       "\t 3 & 4 & 3 & 4 & 3 & 4 & 5 & 5 & 5 & 3 & 4\\\\\n",
       "\t 2 & 2 & 5 & 4 & 1 & 4 & 5 & 2 & 4 & 3 & 5\\\\\n",
       "\t ... & ... & ... & ... & ... & ... & ... & ... & ... & ... & ...\\\\\n",
       "\t 3 & 4 & 5 & 3 & 2 & 3 & 5 & 5 & 4 & 4 & 5\\\\\n",
       "\t 3 & 5 & 5 & 5 & 2 & 5 & 5 & 5 & 5 & 5 & 4\\\\\n",
       "\t 2 & 4 & 4 & 4 & 2 & 2 & 4 & 5 & 4 & 3 & 5\\\\\n",
       "\t 3 & 3 & 4 & 4 & 4 & 5 & 5 & 5 & 4 & 4 & 3\\\\\n",
       "\t 3 & 3 & 4 & 5 & 2 & 4 & 4 & 4 & 4 & 4 & 5\\\\\n",
       "\t 1 & 3 & 4 & 4 & 3 & 4 & 4 & 4 & 4 & 2 & 5\\\\\n",
       "\t 5 & 3 & 5 & 4 & 3 & 5 & 4 & 4 & 4 & 3 & 4\\\\\n",
       "\t 2 & 4 & 5 & 4 & 2 & 4 & 5 & 4 & 4 & 4 & 4\\\\\n",
       "\t 2 & 4 & 4 & 4 & 2 & 3 & 5 & 5 & 4 & 4 & 5\\\\\n",
       "\t 1 & 4 & 5 & 4 & 2 & 4 & 4 & 5 & 4 & 3 & 5\\\\\n",
       "\t 2 & 4 & 3 & 4 & 3 & 4 & 4 & 4 & 4 & 4 & 4\\\\\n",
       "\t 2 & 4 & 3 & 4 & 3 & 3 & 4 & 4 & 4 & 3 & 4\\\\\n",
       "\t 1 & 2 & 3 & 3 & 3 & 2 & 5 & 5 & 5 & 5 & 5\\\\\n",
       "\t 2 & 4 & 3 & 4 & 3 & 4 & 4 & 4 & 4 & 4 & 5\\\\\n",
       "\t 4 & 4 & 3 & 4 & 4 & 2 & 5 & 5 & 4 & 4 & 4\\\\\n",
       "\t 4 & 4 & 5 & 4 & 2 & 4 & 4 & 4 & 4 & 4 & 4\\\\\n",
       "\t 3 & 4 & 3 & 4 & 2 & 2 & 4 & 4 & 3 & 3 & 4\\\\\n",
       "\t 1 & 4 & 4 & 3 & 2 & 2 & 4 & 4 & 4 & 4 & 4\\\\\n",
       "\t 3 & 4 & 5 & 4 & 2 & 4 & 4 & 4 & 5 & 4 & 4\\\\\n",
       "\t 4 & 4 & 3 & 4 & 3 & 4 & 4 & 4 & 5 & 4 & 4\\\\\n",
       "\t 5 & 3 & 3 & 4 & 3 & 5 & 5 & 5 & 3 & 2 & 4\\\\\n",
       "\t 4 & 4 & 2 & 3 & 2 & 2 & 5 & 5 & 2 & 4 & 5\\\\\n",
       "\t 4 & 4 & 3 & 4 & 1 & 3 & 5 & 5 & 4 & 4 & 4\\\\\n",
       "\t 4 & 3 & 4 & 4 & 2 & 2 & 4 & 4 & 3 & 3 & 5\\\\\n",
       "\t 4 & 5 & 5 & 2 & 1 & 4 & 5 & 4 & 4 & 5 & 4\\\\\n",
       "\t 2 & 4 & 3 & 2 & 2 & 3 & 4 & 4 & 3 & 3 & 5\\\\\n",
       "\t 3 & 3 & 4 & 4 & 2 & 5 & 4 & 5 & 5 & 5 & 4\\\\\n",
       "\t 4 & 4 & 5 & 5 & 2 & 2 & 5 & 4 & 4 & 4 & 5\\\\\n",
       "\t 1 & 3 & 3 & 4 & 4 & 4 & 5 & 5 & 5 & 3 & 5\\\\\n",
       "\t 2 & 4 & 4 & 3 & 2 & 3 & 5 & 5 & 3 & 3 & 4\\\\\n",
       "\\end{tabular}\n"
      ],
      "text/markdown": [
       "\n",
       "| Q1 | Q2 | Q3 | Q4 | Q5 | Q6 | Q7 | Q8 | Q9 | Q10 | Q11 |\n",
       "|---|---|---|---|---|---|---|---|---|---|---|\n",
       "| 1 | 5 | 4 | 5 | 4 | 5 | 5 | 5 | 4 | 5 | 4 |\n",
       "| 3 | 4 | 5 | 3 | 2 | 5 | 5 | 4 | 4 | 3 | 3 |\n",
       "| 1 | 4 | 3 | 4 | 3 | 4 | 5 | 5 | 4 | 3 | 2 |\n",
       "| 4 | 5 | 3 | 2 | 3 | 2 | 5 | 4 | 4 | 4 | 5 |\n",
       "| 4 | 3 | 4 | 2 | 2 | 4 | 5 | 4 | 4 | 4 | 5 |\n",
       "| 1 | 4 | 3 | 4 | 4 | 4 | 5 | 3 | 3 | 4 | 4 |\n",
       "| 4 | 4 | 5 | 2 | 1 | 4 | 5 | 5 | 5 | 5 | 5 |\n",
       "| 3 | 5 | 2 | 3 | 2 | 5 | 5 | 4 | 2 | 4 | 4 |\n",
       "| 1 | 3 | 3 | 3 | 3 | 3 | 3 | 3 | 3 | 3 | 3 |\n",
       "| 2 | 4 | 5 | 4 | 2 | 4 | 4 | 4 | 3 | 5 | 4 |\n",
       "| 1 | 4 | 4 | 2 | 1 | 2 | 4 | 5 | 2 | 4 | 4 |\n",
       "| 4 | 5 | 5 | 5 | 2 | 4 | 4 | 5 | 5 | 4 | 5 |\n",
       "| 2 | 4 | 4 | 4 | 2 | 2 | 5 | 5 | 4 | 4 | 4 |\n",
       "| 1 | 4 | 4 | 4 | 3 | 2 | 4 | 4 | 4 | 4 | 5 |\n",
       "| 2 | 5 | 4 | 3 | 2 | 4 | 5 | 4 | 4 | 3 | 4 |\n",
       "| 3 | 5 | 4 | 4 | 2 | 4 | 4 | 5 | 4 | 4 | 5 |\n",
       "| 2 | 2 | 3 | 4 | 1 | 2 | 5 | 5 | 4 | 5 | 5 |\n",
       "| 2 | 5 | 5 | 4 | 3 | 3 | 4 | 4 | 4 | 3 | 4 |\n",
       "| 4 | 4 | 4 | 5 | 2 | 2 | 5 | 5 | 3 | 4 | 5 |\n",
       "| 3 | 4 | 4 | 4 | 2 | 3 | 4 | 5 | 4 | 4 | 4 |\n",
       "| 2 | 4 | 4 | 5 | 2 | 4 | 4 | 4 | 4 | 3 | 3 |\n",
       "| 1 | 4 | 3 | 2 | 4 | 4 | 4 | 3 | 3 | 4 | 4 |\n",
       "| 4 | 4 | 4 | 4 | 3 | 2 | 5 | 5 | 4 | 5 | 5 |\n",
       "| 3 | 4 | 3 | 2 | 2 | 4 | 4 | 4 | 4 | 3 | 4 |\n",
       "| 3 | 4 | 4 | 3 | 2 | 3 | 4 | 4 | 3 | 3 | 4 |\n",
       "| 1 | 4 | 2 | 3 | 4 | 4 | 4 | 4 | 4 | 4 | 4 |\n",
       "| 5 | 5 | 5 | 5 | 5 | 5 | 5 | 5 | 5 | 5 | 5 |\n",
       "| 4 | 5 | 3 | 4 | 4 | 5 | 5 | 5 | 3 | 4 | 5 |\n",
       "| 3 | 4 | 3 | 4 | 3 | 4 | 5 | 5 | 5 | 3 | 4 |\n",
       "| 2 | 2 | 5 | 4 | 1 | 4 | 5 | 2 | 4 | 3 | 5 |\n",
       "| ... | ... | ... | ... | ... | ... | ... | ... | ... | ... | ... |\n",
       "| 3 | 4 | 5 | 3 | 2 | 3 | 5 | 5 | 4 | 4 | 5 |\n",
       "| 3 | 5 | 5 | 5 | 2 | 5 | 5 | 5 | 5 | 5 | 4 |\n",
       "| 2 | 4 | 4 | 4 | 2 | 2 | 4 | 5 | 4 | 3 | 5 |\n",
       "| 3 | 3 | 4 | 4 | 4 | 5 | 5 | 5 | 4 | 4 | 3 |\n",
       "| 3 | 3 | 4 | 5 | 2 | 4 | 4 | 4 | 4 | 4 | 5 |\n",
       "| 1 | 3 | 4 | 4 | 3 | 4 | 4 | 4 | 4 | 2 | 5 |\n",
       "| 5 | 3 | 5 | 4 | 3 | 5 | 4 | 4 | 4 | 3 | 4 |\n",
       "| 2 | 4 | 5 | 4 | 2 | 4 | 5 | 4 | 4 | 4 | 4 |\n",
       "| 2 | 4 | 4 | 4 | 2 | 3 | 5 | 5 | 4 | 4 | 5 |\n",
       "| 1 | 4 | 5 | 4 | 2 | 4 | 4 | 5 | 4 | 3 | 5 |\n",
       "| 2 | 4 | 3 | 4 | 3 | 4 | 4 | 4 | 4 | 4 | 4 |\n",
       "| 2 | 4 | 3 | 4 | 3 | 3 | 4 | 4 | 4 | 3 | 4 |\n",
       "| 1 | 2 | 3 | 3 | 3 | 2 | 5 | 5 | 5 | 5 | 5 |\n",
       "| 2 | 4 | 3 | 4 | 3 | 4 | 4 | 4 | 4 | 4 | 5 |\n",
       "| 4 | 4 | 3 | 4 | 4 | 2 | 5 | 5 | 4 | 4 | 4 |\n",
       "| 4 | 4 | 5 | 4 | 2 | 4 | 4 | 4 | 4 | 4 | 4 |\n",
       "| 3 | 4 | 3 | 4 | 2 | 2 | 4 | 4 | 3 | 3 | 4 |\n",
       "| 1 | 4 | 4 | 3 | 2 | 2 | 4 | 4 | 4 | 4 | 4 |\n",
       "| 3 | 4 | 5 | 4 | 2 | 4 | 4 | 4 | 5 | 4 | 4 |\n",
       "| 4 | 4 | 3 | 4 | 3 | 4 | 4 | 4 | 5 | 4 | 4 |\n",
       "| 5 | 3 | 3 | 4 | 3 | 5 | 5 | 5 | 3 | 2 | 4 |\n",
       "| 4 | 4 | 2 | 3 | 2 | 2 | 5 | 5 | 2 | 4 | 5 |\n",
       "| 4 | 4 | 3 | 4 | 1 | 3 | 5 | 5 | 4 | 4 | 4 |\n",
       "| 4 | 3 | 4 | 4 | 2 | 2 | 4 | 4 | 3 | 3 | 5 |\n",
       "| 4 | 5 | 5 | 2 | 1 | 4 | 5 | 4 | 4 | 5 | 4 |\n",
       "| 2 | 4 | 3 | 2 | 2 | 3 | 4 | 4 | 3 | 3 | 5 |\n",
       "| 3 | 3 | 4 | 4 | 2 | 5 | 4 | 5 | 5 | 5 | 4 |\n",
       "| 4 | 4 | 5 | 5 | 2 | 2 | 5 | 4 | 4 | 4 | 5 |\n",
       "| 1 | 3 | 3 | 4 | 4 | 4 | 5 | 5 | 5 | 3 | 5 |\n",
       "| 2 | 4 | 4 | 3 | 2 | 3 | 5 | 5 | 3 | 3 | 4 |\n",
       "\n"
      ],
      "text/plain": [
       "    Q1  Q2  Q3  Q4  Q5  Q6  Q7  Q8  Q9  Q10 Q11\n",
       "1   1   5   4   5   4   5   5   5   4   5   4  \n",
       "2   3   4   5   3   2   5   5   4   4   3   3  \n",
       "3   1   4   3   4   3   4   5   5   4   3   2  \n",
       "4   4   5   3   2   3   2   5   4   4   4   5  \n",
       "5   4   3   4   2   2   4   5   4   4   4   5  \n",
       "6   1   4   3   4   4   4   5   3   3   4   4  \n",
       "7   4   4   5   2   1   4   5   5   5   5   5  \n",
       "8   3   5   2   3   2   5   5   4   2   4   4  \n",
       "9   1   3   3   3   3   3   3   3   3   3   3  \n",
       "10  2   4   5   4   2   4   4   4   3   5   4  \n",
       "11  1   4   4   2   1   2   4   5   2   4   4  \n",
       "12  4   5   5   5   2   4   4   5   5   4   5  \n",
       "13  2   4   4   4   2   2   5   5   4   4   4  \n",
       "14  1   4   4   4   3   2   4   4   4   4   5  \n",
       "15  2   5   4   3   2   4   5   4   4   3   4  \n",
       "16  3   5   4   4   2   4   4   5   4   4   5  \n",
       "17  2   2   3   4   1   2   5   5   4   5   5  \n",
       "18  2   5   5   4   3   3   4   4   4   3   4  \n",
       "19  4   4   4   5   2   2   5   5   3   4   5  \n",
       "20  3   4   4   4   2   3   4   5   4   4   4  \n",
       "21  2   4   4   5   2   4   4   4   4   3   3  \n",
       "22  1   4   3   2   4   4   4   3   3   4   4  \n",
       "23  4   4   4   4   3   2   5   5   4   5   5  \n",
       "24  3   4   3   2   2   4   4   4   4   3   4  \n",
       "25  3   4   4   3   2   3   4   4   3   3   4  \n",
       "26  1   4   2   3   4   4   4   4   4   4   4  \n",
       "27  5   5   5   5   5   5   5   5   5   5   5  \n",
       "28  4   5   3   4   4   5   5   5   3   4   5  \n",
       "29  3   4   3   4   3   4   5   5   5   3   4  \n",
       "30  2   2   5   4   1   4   5   2   4   3   5  \n",
       "... ... ... ... ... ... ... ... ... ... ... ...\n",
       "475 3   4   5   3   2   3   5   5   4   4   5  \n",
       "476 3   5   5   5   2   5   5   5   5   5   4  \n",
       "477 2   4   4   4   2   2   4   5   4   3   5  \n",
       "478 3   3   4   4   4   5   5   5   4   4   3  \n",
       "479 3   3   4   5   2   4   4   4   4   4   5  \n",
       "480 1   3   4   4   3   4   4   4   4   2   5  \n",
       "481 5   3   5   4   3   5   4   4   4   3   4  \n",
       "482 2   4   5   4   2   4   5   4   4   4   4  \n",
       "483 2   4   4   4   2   3   5   5   4   4   5  \n",
       "484 1   4   5   4   2   4   4   5   4   3   5  \n",
       "485 2   4   3   4   3   4   4   4   4   4   4  \n",
       "486 2   4   3   4   3   3   4   4   4   3   4  \n",
       "487 1   2   3   3   3   2   5   5   5   5   5  \n",
       "488 2   4   3   4   3   4   4   4   4   4   5  \n",
       "489 4   4   3   4   4   2   5   5   4   4   4  \n",
       "490 4   4   5   4   2   4   4   4   4   4   4  \n",
       "491 3   4   3   4   2   2   4   4   3   3   4  \n",
       "492 1   4   4   3   2   2   4   4   4   4   4  \n",
       "493 3   4   5   4   2   4   4   4   5   4   4  \n",
       "494 4   4   3   4   3   4   4   4   5   4   4  \n",
       "495 5   3   3   4   3   5   5   5   3   2   4  \n",
       "496 4   4   2   3   2   2   5   5   2   4   5  \n",
       "497 4   4   3   4   1   3   5   5   4   4   4  \n",
       "498 4   3   4   4   2   2   4   4   3   3   5  \n",
       "499 4   5   5   2   1   4   5   4   4   5   4  \n",
       "500 2   4   3   2   2   3   4   4   3   3   5  \n",
       "501 3   3   4   4   2   5   4   5   5   5   4  \n",
       "502 4   4   5   5   2   2   5   4   4   4   5  \n",
       "503 1   3   3   4   4   4   5   5   5   3   5  \n",
       "504 2   4   4   3   2   3   5   5   3   3   4  "
      ]
     },
     "metadata": {},
     "output_type": "display_data"
    }
   ],
   "source": [
    "mydata"
   ]
  },
  {
   "cell_type": "code",
   "execution_count": 17,
   "metadata": {},
   "outputs": [
    {
     "name": "stderr",
     "output_type": "stream",
     "text": [
      "The following objects are masked from Ttest_data (pos = 3):\n",
      "\n",
      "    Q1, Q10, Q11, Q2, Q3, Q4, Q5, Q6, Q7, Q8, Q9\n",
      "\n",
      "The following objects are masked from Ttest_data (pos = 4):\n",
      "\n",
      "    Q1, Q10, Q11, Q2, Q3, Q4, Q5, Q6, Q7, Q8, Q9\n",
      "\n",
      "The following objects are masked from Ttest_data (pos = 5):\n",
      "\n",
      "    Q1, Q10, Q11, Q2, Q3, Q4, Q5, Q6, Q7, Q8, Q9\n",
      "\n",
      "The following objects are masked from Ttest_data (pos = 6):\n",
      "\n",
      "    Q1, Q10, Q11, Q2, Q3, Q4, Q5, Q6, Q7, Q8, Q9\n",
      "\n",
      "The following objects are masked from Ttest_data (pos = 7):\n",
      "\n",
      "    Q1, Q10, Q11, Q2, Q3, Q4, Q5, Q6, Q7, Q8, Q9\n",
      "\n",
      "The following objects are masked from Ttest_data (pos = 8):\n",
      "\n",
      "    Q1, Q10, Q11, Q2, Q3, Q4, Q5, Q6, Q7, Q8, Q9\n",
      "\n"
     ]
    }
   ],
   "source": [
    "attach(mydata)"
   ]
  },
  {
   "cell_type": "code",
   "execution_count": 18,
   "metadata": {},
   "outputs": [],
   "source": [
    "x<- cbind(Q1, Q10, Q11, Q2, Q3, Q4, Q5, Q6, Q7, Q8, Q9,Q10,Q11)"
   ]
  },
  {
   "cell_type": "code",
   "execution_count": 19,
   "metadata": {},
   "outputs": [
    {
     "data": {
      "text/plain": [
       "       Q1             Q10             Q11              Q2       \n",
       " Min.   :1.000   Min.   :2.000   Min.   :1.000   Min.   :1.000  \n",
       " 1st Qu.:2.000   1st Qu.:3.000   1st Qu.:4.000   1st Qu.:4.000  \n",
       " Median :2.000   Median :4.000   Median :4.000   Median :4.000  \n",
       " Mean   :2.637   Mean   :3.879   Mean   :4.387   Mean   :3.879  \n",
       " 3rd Qu.:4.000   3rd Qu.:4.000   3rd Qu.:5.000   3rd Qu.:4.000  \n",
       " Max.   :5.000   Max.   :5.000   Max.   :5.000   Max.   :5.000  \n",
       "       Q3              Q4              Q5              Q6       \n",
       " Min.   :1.000   Min.   :1.000   Min.   :1.000   Min.   :1.000  \n",
       " 1st Qu.:3.000   1st Qu.:3.000   1st Qu.:2.000   1st Qu.:3.000  \n",
       " Median :4.000   Median :4.000   Median :2.000   Median :4.000  \n",
       " Mean   :3.673   Mean   :3.702   Mean   :2.595   Mean   :3.685  \n",
       " 3rd Qu.:4.000   3rd Qu.:4.000   3rd Qu.:3.000   3rd Qu.:4.000  \n",
       " Max.   :5.000   Max.   :5.000   Max.   :5.000   Max.   :5.000  \n",
       "       Q7              Q8              Q9             Q10       \n",
       " Min.   :1.000   Min.   :2.000   Min.   :1.000   Min.   :2.000  \n",
       " 1st Qu.:4.000   1st Qu.:4.000   1st Qu.:4.000   1st Qu.:3.000  \n",
       " Median :5.000   Median :4.000   Median :4.000   Median :4.000  \n",
       " Mean   :4.486   Mean   :4.355   Mean   :3.942   Mean   :3.879  \n",
       " 3rd Qu.:5.000   3rd Qu.:5.000   3rd Qu.:4.000   3rd Qu.:4.000  \n",
       " Max.   :5.000   Max.   :5.000   Max.   :5.000   Max.   :5.000  \n",
       "      Q11       \n",
       " Min.   :1.000  \n",
       " 1st Qu.:4.000  \n",
       " Median :4.000  \n",
       " Mean   :4.387  \n",
       " 3rd Qu.:5.000  \n",
       " Max.   :5.000  "
      ]
     },
     "metadata": {},
     "output_type": "display_data"
    },
    {
     "data": {
      "text/html": [
       "<table>\n",
       "<thead><tr><th></th><th scope=col>Q1</th><th scope=col>Q10</th><th scope=col>Q11</th><th scope=col>Q2</th><th scope=col>Q3</th><th scope=col>Q4</th><th scope=col>Q5</th><th scope=col>Q6</th><th scope=col>Q7</th><th scope=col>Q8</th><th scope=col>Q9</th><th scope=col>Q10</th><th scope=col>Q11</th></tr></thead>\n",
       "<tbody>\n",
       "\t<tr><th scope=row>Q1</th><td> 1.000000000</td><td>0.069081424 </td><td> 0.076265749</td><td> 0.059952385</td><td>-0.003644044</td><td>-0.06013072 </td><td>-0.112928016</td><td>0.008909036 </td><td> 0.05577229 </td><td> 0.05082842 </td><td>0.06637372  </td><td>0.069081424 </td><td> 0.076265749</td></tr>\n",
       "\t<tr><th scope=row>Q10</th><td> 0.069081424</td><td>1.000000000 </td><td> 0.180949608</td><td> 0.036628582</td><td> 0.055110052</td><td> 0.08528692 </td><td> 0.003642317</td><td>0.161968632 </td><td> 0.13926272 </td><td> 0.32865657 </td><td>0.28071480  </td><td>1.000000000 </td><td> 0.180949608</td></tr>\n",
       "\t<tr><th scope=row>Q11</th><td> 0.076265749</td><td>0.180949608 </td><td> 1.000000000</td><td> 0.053893055</td><td> 0.041986583</td><td> 0.04927021 </td><td>-0.059727107</td><td>0.007301459 </td><td> 0.20628235 </td><td> 0.16452663 </td><td>0.15006067  </td><td>0.180949608 </td><td> 1.000000000</td></tr>\n",
       "\t<tr><th scope=row>Q2</th><td> 0.059952385</td><td>0.036628582 </td><td> 0.053893055</td><td> 1.000000000</td><td> 0.108125345</td><td> 0.11351964 </td><td>-0.009547943</td><td>0.135531228 </td><td> 0.07399823 </td><td> 0.12000438 </td><td>0.09902066  </td><td>0.036628582 </td><td> 0.053893055</td></tr>\n",
       "\t<tr><th scope=row>Q3</th><td>-0.003644044</td><td>0.055110052 </td><td> 0.041986583</td><td> 0.108125345</td><td> 1.000000000</td><td> 0.08302738 </td><td>-0.272280646</td><td>0.024451775 </td><td> 0.07454345 </td><td> 0.14304373 </td><td>0.12607746  </td><td>0.055110052 </td><td> 0.041986583</td></tr>\n",
       "\t<tr><th scope=row>Q4</th><td>-0.060130719</td><td>0.085286925 </td><td> 0.049270211</td><td> 0.113519643</td><td> 0.083027377</td><td> 1.00000000 </td><td> 0.218862342</td><td>0.111198194 </td><td> 0.09832347 </td><td> 0.15905905 </td><td>0.20584613  </td><td>0.085286925 </td><td> 0.049270211</td></tr>\n",
       "\t<tr><th scope=row>Q5</th><td>-0.112928016</td><td>0.003642317 </td><td>-0.059727107</td><td>-0.009547943</td><td>-0.272280646</td><td> 0.21886234 </td><td> 1.000000000</td><td>0.151722408 </td><td>-0.05383895 </td><td>-0.09944658 </td><td>0.07336088  </td><td>0.003642317 </td><td>-0.059727107</td></tr>\n",
       "\t<tr><th scope=row>Q6</th><td> 0.008909036</td><td>0.161968632 </td><td> 0.007301459</td><td> 0.135531228</td><td> 0.024451775</td><td> 0.11119819 </td><td> 0.151722408</td><td>1.000000000 </td><td> 0.10376416 </td><td> 0.08774849 </td><td>0.12692811  </td><td>0.161968632 </td><td> 0.007301459</td></tr>\n",
       "\t<tr><th scope=row>Q7</th><td> 0.055772291</td><td>0.139262720 </td><td> 0.206282354</td><td> 0.073998230</td><td> 0.074543449</td><td> 0.09832347 </td><td>-0.053838952</td><td>0.103764165 </td><td> 1.00000000 </td><td> 0.29978280 </td><td>0.15183358  </td><td>0.139262720 </td><td> 0.206282354</td></tr>\n",
       "\t<tr><th scope=row>Q8</th><td> 0.050828420</td><td>0.328656568 </td><td> 0.164526629</td><td> 0.120004380</td><td> 0.143043729</td><td> 0.15905905 </td><td>-0.099446578</td><td>0.087748489 </td><td> 0.29978280 </td><td> 1.00000000 </td><td>0.26927372  </td><td>0.328656568 </td><td> 0.164526629</td></tr>\n",
       "\t<tr><th scope=row>Q9</th><td> 0.066373719</td><td>0.280714796 </td><td> 0.150060666</td><td> 0.099020655</td><td> 0.126077465</td><td> 0.20584613 </td><td> 0.073360884</td><td>0.126928112 </td><td> 0.15183358 </td><td> 0.26927372 </td><td>1.00000000  </td><td>0.280714796 </td><td> 0.150060666</td></tr>\n",
       "\t<tr><th scope=row>Q10</th><td> 0.069081424</td><td>1.000000000 </td><td> 0.180949608</td><td> 0.036628582</td><td> 0.055110052</td><td> 0.08528692 </td><td> 0.003642317</td><td>0.161968632 </td><td> 0.13926272 </td><td> 0.32865657 </td><td>0.28071480  </td><td>1.000000000 </td><td> 0.180949608</td></tr>\n",
       "\t<tr><th scope=row>Q11</th><td> 0.076265749</td><td>0.180949608 </td><td> 1.000000000</td><td> 0.053893055</td><td> 0.041986583</td><td> 0.04927021 </td><td>-0.059727107</td><td>0.007301459 </td><td> 0.20628235 </td><td> 0.16452663 </td><td>0.15006067  </td><td>0.180949608 </td><td> 1.000000000</td></tr>\n",
       "</tbody>\n",
       "</table>\n"
      ],
      "text/latex": [
       "\\begin{tabular}{r|lllllllllllll}\n",
       "  & Q1 & Q10 & Q11 & Q2 & Q3 & Q4 & Q5 & Q6 & Q7 & Q8 & Q9 & Q10 & Q11\\\\\n",
       "\\hline\n",
       "\tQ1 &  1.000000000 & 0.069081424  &  0.076265749 &  0.059952385 & -0.003644044 & -0.06013072  & -0.112928016 & 0.008909036  &  0.05577229  &  0.05082842  & 0.06637372   & 0.069081424  &  0.076265749\\\\\n",
       "\tQ10 &  0.069081424 & 1.000000000  &  0.180949608 &  0.036628582 &  0.055110052 &  0.08528692  &  0.003642317 & 0.161968632  &  0.13926272  &  0.32865657  & 0.28071480   & 1.000000000  &  0.180949608\\\\\n",
       "\tQ11 &  0.076265749 & 0.180949608  &  1.000000000 &  0.053893055 &  0.041986583 &  0.04927021  & -0.059727107 & 0.007301459  &  0.20628235  &  0.16452663  & 0.15006067   & 0.180949608  &  1.000000000\\\\\n",
       "\tQ2 &  0.059952385 & 0.036628582  &  0.053893055 &  1.000000000 &  0.108125345 &  0.11351964  & -0.009547943 & 0.135531228  &  0.07399823  &  0.12000438  & 0.09902066   & 0.036628582  &  0.053893055\\\\\n",
       "\tQ3 & -0.003644044 & 0.055110052  &  0.041986583 &  0.108125345 &  1.000000000 &  0.08302738  & -0.272280646 & 0.024451775  &  0.07454345  &  0.14304373  & 0.12607746   & 0.055110052  &  0.041986583\\\\\n",
       "\tQ4 & -0.060130719 & 0.085286925  &  0.049270211 &  0.113519643 &  0.083027377 &  1.00000000  &  0.218862342 & 0.111198194  &  0.09832347  &  0.15905905  & 0.20584613   & 0.085286925  &  0.049270211\\\\\n",
       "\tQ5 & -0.112928016 & 0.003642317  & -0.059727107 & -0.009547943 & -0.272280646 &  0.21886234  &  1.000000000 & 0.151722408  & -0.05383895  & -0.09944658  & 0.07336088   & 0.003642317  & -0.059727107\\\\\n",
       "\tQ6 &  0.008909036 & 0.161968632  &  0.007301459 &  0.135531228 &  0.024451775 &  0.11119819  &  0.151722408 & 1.000000000  &  0.10376416  &  0.08774849  & 0.12692811   & 0.161968632  &  0.007301459\\\\\n",
       "\tQ7 &  0.055772291 & 0.139262720  &  0.206282354 &  0.073998230 &  0.074543449 &  0.09832347  & -0.053838952 & 0.103764165  &  1.00000000  &  0.29978280  & 0.15183358   & 0.139262720  &  0.206282354\\\\\n",
       "\tQ8 &  0.050828420 & 0.328656568  &  0.164526629 &  0.120004380 &  0.143043729 &  0.15905905  & -0.099446578 & 0.087748489  &  0.29978280  &  1.00000000  & 0.26927372   & 0.328656568  &  0.164526629\\\\\n",
       "\tQ9 &  0.066373719 & 0.280714796  &  0.150060666 &  0.099020655 &  0.126077465 &  0.20584613  &  0.073360884 & 0.126928112  &  0.15183358  &  0.26927372  & 1.00000000   & 0.280714796  &  0.150060666\\\\\n",
       "\tQ10 &  0.069081424 & 1.000000000  &  0.180949608 &  0.036628582 &  0.055110052 &  0.08528692  &  0.003642317 & 0.161968632  &  0.13926272  &  0.32865657  & 0.28071480   & 1.000000000  &  0.180949608\\\\\n",
       "\tQ11 &  0.076265749 & 0.180949608  &  1.000000000 &  0.053893055 &  0.041986583 &  0.04927021  & -0.059727107 & 0.007301459  &  0.20628235  &  0.16452663  & 0.15006067   & 0.180949608  &  1.000000000\\\\\n",
       "\\end{tabular}\n"
      ],
      "text/markdown": [
       "\n",
       "| <!--/--> | Q1 | Q10 | Q11 | Q2 | Q3 | Q4 | Q5 | Q6 | Q7 | Q8 | Q9 | Q10 | Q11 |\n",
       "|---|---|---|---|---|---|---|---|---|---|---|---|---|---|\n",
       "| Q1 |  1.000000000 | 0.069081424  |  0.076265749 |  0.059952385 | -0.003644044 | -0.06013072  | -0.112928016 | 0.008909036  |  0.05577229  |  0.05082842  | 0.06637372   | 0.069081424  |  0.076265749 |\n",
       "| Q10 |  0.069081424 | 1.000000000  |  0.180949608 |  0.036628582 |  0.055110052 |  0.08528692  |  0.003642317 | 0.161968632  |  0.13926272  |  0.32865657  | 0.28071480   | 1.000000000  |  0.180949608 |\n",
       "| Q11 |  0.076265749 | 0.180949608  |  1.000000000 |  0.053893055 |  0.041986583 |  0.04927021  | -0.059727107 | 0.007301459  |  0.20628235  |  0.16452663  | 0.15006067   | 0.180949608  |  1.000000000 |\n",
       "| Q2 |  0.059952385 | 0.036628582  |  0.053893055 |  1.000000000 |  0.108125345 |  0.11351964  | -0.009547943 | 0.135531228  |  0.07399823  |  0.12000438  | 0.09902066   | 0.036628582  |  0.053893055 |\n",
       "| Q3 | -0.003644044 | 0.055110052  |  0.041986583 |  0.108125345 |  1.000000000 |  0.08302738  | -0.272280646 | 0.024451775  |  0.07454345  |  0.14304373  | 0.12607746   | 0.055110052  |  0.041986583 |\n",
       "| Q4 | -0.060130719 | 0.085286925  |  0.049270211 |  0.113519643 |  0.083027377 |  1.00000000  |  0.218862342 | 0.111198194  |  0.09832347  |  0.15905905  | 0.20584613   | 0.085286925  |  0.049270211 |\n",
       "| Q5 | -0.112928016 | 0.003642317  | -0.059727107 | -0.009547943 | -0.272280646 |  0.21886234  |  1.000000000 | 0.151722408  | -0.05383895  | -0.09944658  | 0.07336088   | 0.003642317  | -0.059727107 |\n",
       "| Q6 |  0.008909036 | 0.161968632  |  0.007301459 |  0.135531228 |  0.024451775 |  0.11119819  |  0.151722408 | 1.000000000  |  0.10376416  |  0.08774849  | 0.12692811   | 0.161968632  |  0.007301459 |\n",
       "| Q7 |  0.055772291 | 0.139262720  |  0.206282354 |  0.073998230 |  0.074543449 |  0.09832347  | -0.053838952 | 0.103764165  |  1.00000000  |  0.29978280  | 0.15183358   | 0.139262720  |  0.206282354 |\n",
       "| Q8 |  0.050828420 | 0.328656568  |  0.164526629 |  0.120004380 |  0.143043729 |  0.15905905  | -0.099446578 | 0.087748489  |  0.29978280  |  1.00000000  | 0.26927372   | 0.328656568  |  0.164526629 |\n",
       "| Q9 |  0.066373719 | 0.280714796  |  0.150060666 |  0.099020655 |  0.126077465 |  0.20584613  |  0.073360884 | 0.126928112  |  0.15183358  |  0.26927372  | 1.00000000   | 0.280714796  |  0.150060666 |\n",
       "| Q10 |  0.069081424 | 1.000000000  |  0.180949608 |  0.036628582 |  0.055110052 |  0.08528692  |  0.003642317 | 0.161968632  |  0.13926272  |  0.32865657  | 0.28071480   | 1.000000000  |  0.180949608 |\n",
       "| Q11 |  0.076265749 | 0.180949608  |  1.000000000 |  0.053893055 |  0.041986583 |  0.04927021  | -0.059727107 | 0.007301459  |  0.20628235  |  0.16452663  | 0.15006067   | 0.180949608  |  1.000000000 |\n",
       "\n"
      ],
      "text/plain": [
       "    Q1           Q10         Q11          Q2           Q3           Q4         \n",
       "Q1   1.000000000 0.069081424  0.076265749  0.059952385 -0.003644044 -0.06013072\n",
       "Q10  0.069081424 1.000000000  0.180949608  0.036628582  0.055110052  0.08528692\n",
       "Q11  0.076265749 0.180949608  1.000000000  0.053893055  0.041986583  0.04927021\n",
       "Q2   0.059952385 0.036628582  0.053893055  1.000000000  0.108125345  0.11351964\n",
       "Q3  -0.003644044 0.055110052  0.041986583  0.108125345  1.000000000  0.08302738\n",
       "Q4  -0.060130719 0.085286925  0.049270211  0.113519643  0.083027377  1.00000000\n",
       "Q5  -0.112928016 0.003642317 -0.059727107 -0.009547943 -0.272280646  0.21886234\n",
       "Q6   0.008909036 0.161968632  0.007301459  0.135531228  0.024451775  0.11119819\n",
       "Q7   0.055772291 0.139262720  0.206282354  0.073998230  0.074543449  0.09832347\n",
       "Q8   0.050828420 0.328656568  0.164526629  0.120004380  0.143043729  0.15905905\n",
       "Q9   0.066373719 0.280714796  0.150060666  0.099020655  0.126077465  0.20584613\n",
       "Q10  0.069081424 1.000000000  0.180949608  0.036628582  0.055110052  0.08528692\n",
       "Q11  0.076265749 0.180949608  1.000000000  0.053893055  0.041986583  0.04927021\n",
       "    Q5           Q6          Q7          Q8          Q9         Q10        \n",
       "Q1  -0.112928016 0.008909036  0.05577229  0.05082842 0.06637372 0.069081424\n",
       "Q10  0.003642317 0.161968632  0.13926272  0.32865657 0.28071480 1.000000000\n",
       "Q11 -0.059727107 0.007301459  0.20628235  0.16452663 0.15006067 0.180949608\n",
       "Q2  -0.009547943 0.135531228  0.07399823  0.12000438 0.09902066 0.036628582\n",
       "Q3  -0.272280646 0.024451775  0.07454345  0.14304373 0.12607746 0.055110052\n",
       "Q4   0.218862342 0.111198194  0.09832347  0.15905905 0.20584613 0.085286925\n",
       "Q5   1.000000000 0.151722408 -0.05383895 -0.09944658 0.07336088 0.003642317\n",
       "Q6   0.151722408 1.000000000  0.10376416  0.08774849 0.12692811 0.161968632\n",
       "Q7  -0.053838952 0.103764165  1.00000000  0.29978280 0.15183358 0.139262720\n",
       "Q8  -0.099446578 0.087748489  0.29978280  1.00000000 0.26927372 0.328656568\n",
       "Q9   0.073360884 0.126928112  0.15183358  0.26927372 1.00000000 0.280714796\n",
       "Q10  0.003642317 0.161968632  0.13926272  0.32865657 0.28071480 1.000000000\n",
       "Q11 -0.059727107 0.007301459  0.20628235  0.16452663 0.15006067 0.180949608\n",
       "    Q11         \n",
       "Q1   0.076265749\n",
       "Q10  0.180949608\n",
       "Q11  1.000000000\n",
       "Q2   0.053893055\n",
       "Q3   0.041986583\n",
       "Q4   0.049270211\n",
       "Q5  -0.059727107\n",
       "Q6   0.007301459\n",
       "Q7   0.206282354\n",
       "Q8   0.164526629\n",
       "Q9   0.150060666\n",
       "Q10  0.180949608\n",
       "Q11  1.000000000"
      ]
     },
     "metadata": {},
     "output_type": "display_data"
    }
   ],
   "source": [
    "summary(x)\n",
    "cor(x)"
   ]
  },
  {
   "cell_type": "code",
   "execution_count": 20,
   "metadata": {},
   "outputs": [],
   "source": [
    "pca<-princomp(x, score=TRUE, cor=TRUE)"
   ]
  },
  {
   "cell_type": "code",
   "execution_count": 21,
   "metadata": {},
   "outputs": [
    {
     "data": {
      "text/plain": [
       "\n",
       "Loadings:\n",
       "    Comp.1 Comp.2 Comp.3 Comp.4 Comp.5 Comp.6 Comp.7 Comp.8 Comp.9 Comp.10\n",
       "Q1                 0.226         0.746  0.225  0.458  0.194  0.253        \n",
       "Q10  0.446 -0.331  0.158  0.339        -0.123                0.112 -0.122 \n",
       "Q11  0.367  0.551 -0.173  0.108        -0.125                             \n",
       "Q2   0.111               -0.440  0.398 -0.434        -0.634 -0.123 -0.134 \n",
       "Q3   0.113         0.364 -0.471 -0.296 -0.342         0.357  0.156 -0.247 \n",
       "Q4   0.144 -0.164 -0.412 -0.339 -0.240         0.377         0.569        \n",
       "Q5         -0.210 -0.661  0.150                                    -0.202 \n",
       "Q6   0.142 -0.234 -0.259 -0.151  0.347 -0.227 -0.524  0.553         0.255 \n",
       "Q7   0.246               -0.271         0.628 -0.417               -0.528 \n",
       "Q8   0.333 -0.107  0.129 -0.241 -0.108  0.353        -0.221         0.693 \n",
       "Q9   0.294 -0.153 -0.108 -0.198                0.416  0.246 -0.728 -0.120 \n",
       "Q10  0.446 -0.331  0.158  0.339        -0.123                0.112 -0.122 \n",
       "Q11  0.367  0.551 -0.173  0.108        -0.125                             \n",
       "    Comp.11 Comp.12 Comp.13\n",
       "Q1   0.132                 \n",
       "Q10         -0.707         \n",
       "Q11                  0.707 \n",
       "Q2                         \n",
       "Q3   0.457                 \n",
       "Q4  -0.364                 \n",
       "Q5   0.663                 \n",
       "Q6  -0.133                 \n",
       "Q7                         \n",
       "Q8   0.354                 \n",
       "Q9  -0.228                 \n",
       "Q10          0.707         \n",
       "Q11                 -0.707 \n",
       "\n",
       "               Comp.1 Comp.2 Comp.3 Comp.4 Comp.5 Comp.6 Comp.7 Comp.8 Comp.9\n",
       "SS loadings     1.000  1.000  1.000  1.000  1.000  1.000  1.000  1.000  1.000\n",
       "Proportion Var  0.077  0.077  0.077  0.077  0.077  0.077  0.077  0.077  0.077\n",
       "Cumulative Var  0.077  0.154  0.231  0.308  0.385  0.462  0.538  0.615  0.692\n",
       "               Comp.10 Comp.11 Comp.12 Comp.13\n",
       "SS loadings      1.000   1.000   1.000   1.000\n",
       "Proportion Var   0.077   0.077   0.077   0.077\n",
       "Cumulative Var   0.769   0.846   0.923   1.000"
      ]
     },
     "metadata": {},
     "output_type": "display_data"
    }
   ],
   "source": [
    "loadings(pca)"
   ]
  },
  {
   "cell_type": "code",
   "execution_count": 22,
   "metadata": {},
   "outputs": [
    {
     "data": {
      "image/png": "[encoded data removed]",
      "text/plain": [
       "Plot with title \"pca\""
      ]
     },
     "metadata": {},
     "output_type": "display_data"
    },
    {
     "data": {
      "image/png": "[encoded data removed]",
      "text/plain": [
       "Plot with title \"scree plot\""
      ]
     },
     "metadata": {},
     "output_type": "display_data"
    }
   ],
   "source": [
    "plot(pca)\n",
    "screeplot(pca, type=\"line\", main=\"scree plot\")"
   ]
  },
  {
   "cell_type": "code",
   "execution_count": null,
   "metadata": {},
   "outputs": [],
   "source": []
  }
 ],
 "metadata": {
  "kernelspec": {
   "display_name": "R",
   "language": "R",
   "name": "ir"
  },
  "language_info": {
   "codemirror_mode": "r",
   "file_extension": ".r",
   "mimetype": "text/x-r-source",
   "name": "R",
   "pygments_lexer": "r",
   "version": "3.6.1"
  }
 },
 "nbformat": 4,
 "nbformat_minor": 4
}
